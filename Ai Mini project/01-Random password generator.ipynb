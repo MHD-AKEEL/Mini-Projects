{
 "cells": [
  {
   "cell_type": "code",
   "execution_count": 16,
   "id": "dfc1eb5c-d4f5-431e-9e06-d270b38b2e8f",
   "metadata": {},
   "outputs": [
    {
     "name": "stdout",
     "output_type": "stream",
     "text": [
      "Welcome to Random Password Generator!\n"
     ]
    },
    {
     "name": "stdin",
     "output_type": "stream",
     "text": [
      "Please enter the number of password to be generated: 8\n",
      "please enter the lenght of the password needed: 4\n"
     ]
    },
    {
     "name": "stdout",
     "output_type": "stream",
     "text": [
      " Here are your rendom password:\n",
      "19Dh\n",
      "pHbM\n",
      "$lO8\n",
      "9y^M\n",
      "o1kB\n",
      "vZiS\n",
      "CIKV\n",
      "6mV5\n"
     ]
    }
   ],
   "source": [
    "#Random Password Generator\n",
    "import random\n",
    "\n",
    "print(\"Welcome to Random Password Generator!\")\n",
    "RandomCharactors= \"ABCDEFGHIJKLMNOPQRSTUVWXYZ abcdefghijklmnopqrstuvwxyz1234567890!@#$%^&\"\n",
    "NumberOfPassword = int(input(\"Please enter the number of password to be generated:\"))\n",
    "PasswordLenght = int(input(\"please enter the lenght of the password needed:\"))\n",
    "\n",
    "print(\" Here are your rendom password:\")\n",
    "for x in range(NumberOfPassword):\n",
    "    pwd=\"\"\n",
    "    for chars in range(PasswordLenght):\n",
    "        pwd = pwd + random.choice(randomchars)\n",
    "    print(pwd)"
   ]
  },
  {
   "cell_type": "code",
   "execution_count": null,
   "id": "6176aff6-654b-49f4-9bde-469aecd0cc3f",
   "metadata": {},
   "outputs": [],
   "source": []
  }
 ],
 "metadata": {
  "kernelspec": {
   "display_name": "Python 3 (ipykernel)",
   "language": "python",
   "name": "python3"
  },
  "language_info": {
   "codemirror_mode": {
    "name": "ipython",
    "version": 3
   },
   "file_extension": ".py",
   "mimetype": "text/x-python",
   "name": "python",
   "nbconvert_exporter": "python",
   "pygments_lexer": "ipython3",
   "version": "3.12.7"
  }
 },
 "nbformat": 4,
 "nbformat_minor": 5
}
