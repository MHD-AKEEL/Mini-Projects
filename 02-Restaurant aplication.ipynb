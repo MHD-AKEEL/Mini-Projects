{
 "cells": [
  {
   "cell_type": "code",
   "execution_count": 6,
   "id": "2fb50440-7905-4511-a4c4-92f9f32128a8",
   "metadata": {},
   "outputs": [
    {
     "name": "stdout",
     "output_type": "stream",
     "text": [
      "Welcome to 'AK' Restaurant\n",
      "\n",
      "Pizza: Rs40 \n",
      "Pasta: Rs50 \n",
      "Burger: Rs60 \n",
      "Salad: Rs70 \n",
      "Coffee: Rs80\n",
      "\n"
     ]
    },
    {
     "name": "stdin",
     "output_type": "stream",
     "text": [
      "Enter the name of the item you want to order:  pizza\n"
     ]
    },
    {
     "name": "stdout",
     "output_type": "stream",
     "text": [
      "Your item {item_1} has been added to your order\n",
      "\n"
     ]
    },
    {
     "name": "stdin",
     "output_type": "stream",
     "text": [
      "Do you want to add another item? (Yes/No): \n",
      " yes\n",
      "Enter the name of the second item:  pasta\n"
     ]
    },
    {
     "name": "stdout",
     "output_type": "stream",
     "text": [
      "Item {item_2} has been added to your order\n",
      "\n"
     ]
    },
    {
     "name": "stdin",
     "output_type": "stream",
     "text": [
      "Do you want to add another item? (Yes/No): \n",
      " burger\n",
      "Do you want to add another item? (Yes/No): \n",
      " yes\n",
      "Enter the name of the second item:  salad\n"
     ]
    },
    {
     "name": "stdout",
     "output_type": "stream",
     "text": [
      "Item Salad has been added to your order\n",
      "\n"
     ]
    },
    {
     "name": "stdin",
     "output_type": "stream",
     "text": [
      "Do you want to add another item? (Yes/No): \n",
      " coffee\n"
     ]
    },
    {
     "name": "stdout",
     "output_type": "stream",
     "text": [
      "The total amount to pay is Rs160\n"
     ]
    }
   ],
   "source": [
    "menu = {'Pizza': 40, 'Pasta': 50, 'Burger': 60, 'Salad': 70, 'Coffee': 80}\n",
    "\n",
    "print(\"Welcome to 'AK' Restaurant\\n\")\n",
    "print(\"Pizza: Rs40 \\nPasta: Rs50 \\nBurger: Rs60 \\nSalad: Rs70 \\nCoffee: Rs80\\n\")\n",
    "\n",
    "order_total = 0\n",
    "\n",
    "item_1 = input(\"Enter the name of the item you want to order: \").title()  \n",
    "if item_1 in menu:\n",
    "    order_total += menu[item_1]  \n",
    "    print(\"Your item {item_1} has been added to your order\\n\")\n",
    "else:\n",
    "    print(f\"Ordered item {item_1} is not available yet!\")\n",
    "\n",
    "another_order = input(\"Do you want to add another item? (Yes/No): \\n\").strip().lower()  \n",
    "if another_order == \"yes\":\n",
    "    item_2 = input(\"Enter the name of the second item: \").title() \n",
    "    if item_2 in menu:\n",
    "        order_total += menu[item_2]\n",
    "        print(\"Item {item_2} has been added to your order\\n\")\n",
    "    else:\n",
    "        print(f\"Ordered item {item_2} is not available!\")\n",
    "\n",
    "another_order = input(\"Do you want to add another item? (Yes/No): \\n\").strip().lower()  \n",
    "if another_order == \"yes\":\n",
    "    item_3 = input(\"Enter the name of the second item: \").title() \n",
    "    if item_3 in menu:\n",
    "        order_total += menu[item_3]\n",
    "        print(f\"Item {item_3} has been added to your order\\n\")\n",
    "    else:\n",
    "        print(f\"Ordered item {item_3} is not available!\")\n",
    "\n",
    "another_order = input(\"Do you want to add another item? (Yes/No): \\n\").strip().lower()  \n",
    "if another_order == \"yes\":\n",
    "    item_4 = input(\"Enter the name of the second item: \").title() \n",
    "    if item_4 in menu:\n",
    "        order_total += menu[item_4]\n",
    "        print(f\"Item {item_4} has been added to your order\\n\")\n",
    "    else:\n",
    "        print(f\"Ordered item {item_4} is not available!\")\n",
    "\n",
    "another_order = input(\"Do you want to add another item? (Yes/No): \\n\").strip().lower()  \n",
    "if another_order == \"yes\":\n",
    "    item_5 = input(\"Enter the name of the second item: \").title() \n",
    "    if item_5 in menu:\n",
    "        order_total += menu[item_5]\n",
    "        print(f\"Item {item_5} has been added to your order\\n\")\n",
    "    else:\n",
    "        print(f\"Ordered item {item_5} is not available!\")\n",
    "\n",
    "print(f\"The total amount to pay is Rs{order_total}\")\n"
   ]
  },
  {
   "cell_type": "code",
   "execution_count": null,
   "id": "a8266dfc-dbba-4c85-b099-a290c1a50f17",
   "metadata": {},
   "outputs": [],
   "source": []
  }
 ],
 "metadata": {
  "kernelspec": {
   "display_name": "Python 3 (ipykernel)",
   "language": "python",
   "name": "python3"
  },
  "language_info": {
   "codemirror_mode": {
    "name": "ipython",
    "version": 3
   },
   "file_extension": ".py",
   "mimetype": "text/x-python",
   "name": "python",
   "nbconvert_exporter": "python",
   "pygments_lexer": "ipython3",
   "version": "3.12.7"
  }
 },
 "nbformat": 4,
 "nbformat_minor": 5
}
